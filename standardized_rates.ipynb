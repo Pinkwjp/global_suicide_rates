{
 "cells": [
  {
   "cell_type": "code",
   "execution_count": 13,
   "metadata": {},
   "outputs": [
    {
     "name": "stdout",
     "output_type": "stream",
     "text": [
      "(10980, 34)\n",
      "Index(['IndicatorCode', 'Indicator', 'ValueType', 'ParentLocationCode',\n",
      "       'ParentLocation', 'Location type', 'SpatialDimValueCode', 'Location',\n",
      "       'Period type', 'Period', 'IsLatestYear', 'Dim1 type', 'Dim1',\n",
      "       'Dim1ValueCode', 'Dim2 type', 'Dim2', 'Dim2ValueCode', 'Dim3 type',\n",
      "       'Dim3', 'Dim3ValueCode', 'DataSourceDimValueCode', 'DataSource',\n",
      "       'FactValueNumericPrefix', 'FactValueNumeric', 'FactValueUoM',\n",
      "       'FactValueNumericLowPrefix', 'FactValueNumericLow',\n",
      "       'FactValueNumericHighPrefix', 'FactValueNumericHigh', 'Value',\n",
      "       'FactValueTranslationID', 'FactComments', 'Language', 'DateModified'],\n",
      "      dtype='object')\n"
     ]
    }
   ],
   "source": [
    "import pandas as pd\n",
    "import numpy as np\n",
    "\n",
    "raw_df = pd.read_csv(\n",
    "    r'./data/2019_who_age_standardized_suicide_rates_per_100k_population_data.csv')\n",
    "\n",
    "print(raw_df.shape)\n",
    "print(raw_df.columns)"
   ]
  },
  {
   "cell_type": "code",
   "execution_count": 89,
   "metadata": {},
   "outputs": [
    {
     "name": "stdout",
     "output_type": "stream",
     "text": [
      "{'Female', 'Both sexes', 'Male'}\n",
      "183\n",
      "{2000, 2001, 2002, 2003, 2004, 2005, 2006, 2007, 2008, 2009, 2010, 2011, 2012, 2013, 2014, 2015, 2016, 2017, 2018, 2019}\n"
     ]
    }
   ],
   "source": [
    "print(set(raw_df.Dim1.to_list()))\n",
    "print(len(set(raw_df.Location.to_list())))\n",
    "print(set(raw_df.Period.to_list()))\n",
    "\n",
    "assert np.all(np.isnan(raw_df.Dim2))\n",
    "assert np.all(np.isnan(raw_df.Dim3))"
   ]
  },
  {
   "cell_type": "code",
   "execution_count": 39,
   "metadata": {},
   "outputs": [],
   "source": [
    "assert np.all(np.array([0, 0, 0]) == 0)\n",
    "assert ~np.all(np.array([1, 0, 0]) == 0)\n",
    "\n",
    "assert np.nan != np.nan # good to know"
   ]
  },
  {
   "cell_type": "code",
   "execution_count": 30,
   "metadata": {},
   "outputs": [
    {
     "name": "stdout",
     "output_type": "stream",
     "text": [
      "(10980, 4)\n",
      "              Location  Period        Dim1               Value\n",
      "0  Antigua and Barbuda    2019        Male           0 [0 – 0]\n",
      "1             Barbados    2019      Female  0.16 [0.11 – 0.22]\n",
      "2             Barbados    2019  Both sexes  0.31 [0.22 – 0.42]\n",
      "3  Antigua and Barbuda    2019  Both sexes  0.32 [0.22 – 0.45]\n",
      "4             Barbados    2019        Male  0.49 [0.34 – 0.65]\n"
     ]
    }
   ],
   "source": [
    "rates_df = raw_df.filter(items=['Location', 'Period', 'Dim1', 'Value'])\n",
    "\n",
    "print(rates_df.shape)\n",
    "print(rates_df.head())"
   ]
  },
  {
   "cell_type": "code",
   "execution_count": 41,
   "metadata": {},
   "outputs": [],
   "source": [
    "assert np.all(rates_df.Value.apply(type) == str)"
   ]
  },
  {
   "cell_type": "code",
   "execution_count": 83,
   "metadata": {},
   "outputs": [
    {
     "name": "stdout",
     "output_type": "stream",
     "text": [
      "count    10980.000000\n",
      "mean        11.960951\n",
      "std         12.812487\n",
      "min          0.000000\n",
      "25%          4.630000\n",
      "50%          8.270000\n",
      "75%         14.940000\n",
      "max        195.200000\n",
      "dtype: float64\n",
      "\n"
     ]
    }
   ],
   "source": [
    "values_series = rates_df.Value\n",
    "# 0.16 [0.11 – 0.22] \n",
    "# 0.16 - float, exact value\n",
    "# [0.11 – 0.22] - str, range\n",
    "# print(values_series.head())\n",
    "# print()\n",
    "\n",
    "splitted = values_series.apply(lambda x: str.split(x, maxsplit=1))\n",
    "# print(splitted.head())\n",
    "# print()\n",
    "# print(splitted.shape)\n",
    "# print()\n",
    "\n",
    "values_str, ranges_str = list(zip(*splitted.to_list()))\n",
    "# print(values_str[:5])\n",
    "# print(ranges_str[:5])\n",
    "# print(len(ranges_str)) # 10980\n",
    "# print(len(set(ranges_str))) # 10843, so the ranges is useless\n",
    "\n",
    "values = pd.Series(values_str).apply(float)\n",
    "print(values.describe())\n",
    "print()"
   ]
  },
  {
   "cell_type": "code",
   "execution_count": 88,
   "metadata": {},
   "outputs": [
    {
     "name": "stdout",
     "output_type": "stream",
     "text": [
      "              Location  Period        Dim1               Value  Value_Float\n",
      "0  Antigua and Barbuda    2019        Male           0 [0 – 0]         0.00\n",
      "1             Barbados    2019      Female  0.16 [0.11 – 0.22]         0.16\n",
      "2             Barbados    2019  Both sexes  0.31 [0.22 – 0.42]         0.31\n",
      "3  Antigua and Barbuda    2019  Both sexes  0.32 [0.22 – 0.45]         0.32\n",
      "4             Barbados    2019        Male  0.49 [0.34 – 0.65]         0.49\n",
      "         Location  Period        Dim1                Value  Value_Float\n",
      "10975      Guinea    2000  Both sexes  9.73 [5.57 – 15.96]         9.73\n",
      "10976       Ghana    2000  Both sexes   9.75 [6.46 – 14.3]         9.75\n",
      "10977       Malta    2000        Male  9.75 [7.56 – 12.29]         9.75\n",
      "10978  Seychelles    2000  Both sexes   9.76 [6.6 – 13.46]         9.76\n",
      "10979  Montenegro    2000      Female  9.82 [7.22 – 12.89]         9.82\n"
     ]
    }
   ],
   "source": [
    "assert rates_df.shape[0] == values.shape[0]\n",
    "\n",
    "rates_df['Value_Float'] = values\n",
    "print(rates_df.head())\n",
    "print()\n",
    "print(rates_df.tail())"
   ]
  }
 ],
 "metadata": {
  "kernelspec": {
   "display_name": "Python 3.10.1 ('env': venv)",
   "language": "python",
   "name": "python3"
  },
  "language_info": {
   "codemirror_mode": {
    "name": "ipython",
    "version": 3
   },
   "file_extension": ".py",
   "mimetype": "text/x-python",
   "name": "python",
   "nbconvert_exporter": "python",
   "pygments_lexer": "ipython3",
   "version": "3.10.1"
  },
  "orig_nbformat": 4,
  "vscode": {
   "interpreter": {
    "hash": "9062d06136342f04e3c6c4c2cceee0c1003343694795daabe5231cdfdc8672e2"
   }
  }
 },
 "nbformat": 4,
 "nbformat_minor": 2
}
