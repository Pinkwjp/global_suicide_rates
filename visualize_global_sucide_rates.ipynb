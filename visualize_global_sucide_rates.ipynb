{
 "cells": [
  {
   "cell_type": "code",
   "execution_count": null,
   "metadata": {},
   "outputs": [],
   "source": []
  }
 ],
 "metadata": {
  "kernelspec": {
   "display_name": "Python 3.10.1 ('env': venv)",
   "language": "python",
   "name": "python3"
  },
  "language_info": {
   "name": "python",
   "version": "3.10.1"
  },
  "orig_nbformat": 4,
  "vscode": {
   "interpreter": {
    "hash": "9062d06136342f04e3c6c4c2cceee0c1003343694795daabe5231cdfdc8672e2"
   }
  }
 },
 "nbformat": 4,
 "nbformat_minor": 2
}
